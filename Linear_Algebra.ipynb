{
 "cells": [
  {
   "cell_type": "markdown",
   "metadata": {},
   "source": [
    "# Mathematics in Machine Learning"
   ]
  },
  {
   "cell_type": "markdown",
   "metadata": {},
   "source": [
    "To better understand the theory behind Machine Learning algorithms, which are prevalent in the Data Science field, one must know the concepts of Linear Algebra.\n",
    "\n",
    "This is a field of mathematics applied in many fields of study, since it allows us to efficiently model concepts.\n",
    "\n",
    "In this notebook, we will explore basic linear algebra terms and phenomena, in the eyes of a computer scientist."
   ]
  },
  {
   "cell_type": "markdown",
   "metadata": {},
   "source": [
    "## Scalars and Vectors"
   ]
  },
  {
   "cell_type": "markdown",
   "metadata": {},
   "source": [
    "A scalar is a single number, often representing a quantity or measurement (for example, 24). Scalars are the simplest form of data in linear algebra and are used extensively in machine learning to represent weights, biases, and other parameters."
   ]
  },
  {
   "cell_type": "markdown",
   "metadata": {},
   "source": [
    "A vector is an ordered list of numbers, which can be thought of as a point in a multi-dimensional space. Vectors are fundamental in machine learning as they are used to represent data points, feature sets, and gradients. \n",
    "\n",
    "In python, using the numpy library, it is simple to define vectors and do operations using scalars and other vectors:"
   ]
  },
  {
   "cell_type": "code",
   "execution_count": 8,
   "metadata": {},
   "outputs": [
    {
     "name": "stdout",
     "output_type": "stream",
     "text": [
      "Vector of 10 ones:\n",
      " [1. 1. 1. 1. 1. 1. 1. 1. 1. 1.]\n",
      "\n",
      " Vector of 10 numbers that have the same distance from each other, starting with 3 and ending with 15:\n",
      " [ 3.          4.33333333  5.66666667  7.          8.33333333  9.66666667\n",
      " 11.         12.33333333 13.66666667 15.        ]\n",
      "\n",
      " Vector of 10 random numbers between [0, 1):\n",
      " [0.77916405 0.61112608 0.657783   0.91928666 0.48682244 0.55796896\n",
      " 0.74189646 0.98869585 0.29680354 0.34892569]\n",
      "\n",
      " Vector of 10 random numbers between [1, 10):\n",
      " [3 2 9 3 3 2 5 7 9 4]\n"
     ]
    }
   ],
   "source": [
    "import numpy as np\n",
    "\n",
    "a1 = np.ones(10)\n",
    "print(\"Vector of 10 ones:\\n\", a1)\n",
    "\n",
    "a2 = np.linspace(3, 15, 10)\n",
    "print(\"\\n Vector of 10 numbers that have the same distance from each other, starting with 3 and ending with 15:\\n\", a2)\n",
    "\n",
    "a3 = np.random.rand(10)\n",
    "print(\"\\n Vector of 10 random numbers between [0, 1):\\n\", a3)\n",
    "\n",
    "a4 = np.random.randint(1, 10, size=10)\n",
    "print(\"\\n Vector of 10 random numbers between [1, 10):\\n\", a4)"
   ]
  },
  {
   "cell_type": "code",
   "execution_count": 9,
   "metadata": {},
   "outputs": [
    {
     "name": "stdout",
     "output_type": "stream",
     "text": [
      "Vector a1:\n",
      " [1 2 3 4]\n",
      "\n",
      "Adding the scalar 2 to the vector a1:\n",
      " [3 4 5 6]\n",
      "\n",
      "Subtract a scalar of value 1 to the vector.\n",
      " [0 1 2 3]\n",
      "\n",
      "Multiply the vector with a scalar of value 10:\n",
      " [10 20 30 40]\n",
      "\n",
      "Divide the vector by a scalar of value 5:\n",
      " [0.2 0.4 0.6 0.8]\n"
     ]
    }
   ],
   "source": [
    "a1 = np.array([1, 2, 3, 4])\n",
    "\n",
    "print(\"Vector a1:\\n\", a1)\n",
    "\n",
    "print(\"\\nAdding the scalar 2 to the vector a1:\\n\", a1 + 2)\n",
    "\n",
    "print(\"\\nSubtract a scalar of value 1 to the vector.\\n\", a1 - 1)\n",
    "\n",
    "print(\"\\nMultiply the vector with a scalar of value 10:\\n\", a1 * 10)\n",
    "\n",
    "print(\"\\nDivide the vector by a scalar of value 5:\\n\", a1 / 5)"
   ]
  },
  {
   "cell_type": "markdown",
   "metadata": {},
   "source": [
    "## Matrices and Tensors"
   ]
  },
  {
   "cell_type": "markdown",
   "metadata": {},
   "source": [
    "Matrices and tensors are higher-dimensional generalizations of vectors and are crucial in the field of machine learning.\n",
    "\n",
    "### Matrices\n",
    "\n",
    "A matrix is a two-dimensional array of numbers, which can be thought of as a collection of vectors. Matrices are used extensively in machine learning to represent datasets, transformation operations, and more. For example, in supervised learning, a dataset is often represented as a matrix where each row corresponds to a data point and each column corresponds to a feature.\n",
    "\n",
    "In python, using the numpy library, it is simple to define matrices and perform operations on them, using matrices, vectors and scalars:"
   ]
  },
  {
   "cell_type": "code",
   "execution_count": 12,
   "metadata": {},
   "outputs": [
    {
     "name": "stdout",
     "output_type": "stream",
     "text": [
      "Matrix 1:\n",
      " [[1 2 3]\n",
      " [4 5 6]\n",
      " [7 8 9]]\n",
      "\n",
      "Matrix 2:\n",
      " [[9 8 7]\n",
      " [6 5 4]\n",
      " [3 2 1]]\n",
      "\n",
      "Sum of Matrix 1 and Matrix 2:\n",
      " [[10 10 10]\n",
      " [10 10 10]\n",
      " [10 10 10]]\n",
      "\n",
      "Difference of Matrix 1 and Matrix 2:\n",
      " [[-8 -6 -4]\n",
      " [-2  0  2]\n",
      " [ 4  6  8]]\n",
      "\n",
      "Element-wise multiplication of Matrix 1 and Matrix 2:\n",
      " [[ 9 16 21]\n",
      " [24 25 24]\n",
      " [21 16  9]]\n",
      "\n",
      "Dot product of Matrix 1 and Matrix 2:\n",
      " [[ 30  24  18]\n",
      " [ 84  69  54]\n",
      " [138 114  90]]\n",
      "\n",
      "Matrix 1 multiplied by scalar 2:\n",
      " [[ 2  4  6]\n",
      " [ 8 10 12]\n",
      " [14 16 18]]\n",
      "\n",
      "Matrix 1 multiplied by vector [1, 2, 3]:\n",
      " [14 32 50]\n"
     ]
    }
   ],
   "source": [
    "# Define matrices\n",
    "matrix1 = np.array([[1, 2, 3], [4, 5, 6], [7, 8, 9]])\n",
    "matrix2 = np.array([[9, 8, 7], [6, 5, 4], [3, 2, 1]])\n",
    "\n",
    "print(\"Matrix 1:\\n\", matrix1)\n",
    "print(\"\\nMatrix 2:\\n\", matrix2)\n",
    "\n",
    "# Matrix addition\n",
    "matrix_sum = matrix1 + matrix2\n",
    "print(\"\\nSum of Matrix 1 and Matrix 2:\\n\", matrix_sum)\n",
    "\n",
    "# Matrix subtraction\n",
    "matrix_diff = matrix1 - matrix2\n",
    "print(\"\\nDifference of Matrix 1 and Matrix 2:\\n\", matrix_diff)\n",
    "\n",
    "# Element-wise multiplication\n",
    "matrix_product = matrix1 * matrix2\n",
    "print(\"\\nElement-wise multiplication of Matrix 1 and Matrix 2:\\n\", matrix_product)\n",
    "\n",
    "# Matrix dot product\n",
    "matrix_dot_product = np.dot(matrix1, matrix2)\n",
    "print(\"\\nDot product of Matrix 1 and Matrix 2:\\n\", matrix_dot_product)\n",
    "\n",
    "# Scalar multiplication\n",
    "scalar = 2\n",
    "matrix_scalar_product = matrix1 * scalar\n",
    "print(\"\\nMatrix 1 multiplied by scalar 2:\\n\", matrix_scalar_product)\n",
    "\n",
    "# Matrix-vector multiplication\n",
    "vector = np.array([1, 2, 3])\n",
    "matrix_vector_product = np.dot(matrix1, vector)\n",
    "print(\"\\nMatrix 1 multiplied by vector [1, 2, 3]:\\n\", matrix_vector_product)"
   ]
  },
  {
   "cell_type": "markdown",
   "metadata": {},
   "source": [
    "### Tensors\n",
    "\n",
    "A tensor is a multi-dimensional array of numbers. Depending on the number of indexes, they can be a vector (1 index), matrix (2 indexes), and beyond the third-order tensors (3 indexes, where the 1st points to the row, 2nd to the column and 3rd to the axis), we have higher-order tensors. This makes them a generalization of the previous concepts. This is important for machine learning porpouses because:\n",
    "\n",
    "1. **Data Representation**: Tensors are used to represent data in machine learning. For example, a color image can be represented as a 3-dimensional tensor with dimensions corresponding to height, width, and color channels (RGB).\n",
    "\n",
    "2. **Model Parameters**: In neural networks, tensors are used to represent the weights and biases of the model. These parameters are updated during the training process to minimize the loss function.\n",
    "\n",
    "3. **Operations and Transformations**: Tensors allow for efficient mathematical operations and transformations. Libraries like TensorFlow and PyTorch are built around tensor operations, enabling efficient computation on GPUs and other hardware accelerators.\n",
    "\n",
    "4. **Batch Processing**: Tensors enable batch processing of data, which is essential for training machine learning models. By processing multiple data points simultaneously, tensors help in speeding up the training process.\n",
    "\n",
    "5. **Flexibility**: Tensors provide a flexible way to handle different types of data, including structured and unstructured data. This flexibility is crucial for building complex machine learning models that can handle diverse data sources.\n",
    "\n",
    "In summary, tensors are fundamental to the field of machine learning as they provide a powerful and flexible way to represent and manipulate data and model parameters."
   ]
  },
  {
   "cell_type": "markdown",
   "metadata": {},
   "source": [
    "## Resources"
   ]
  },
  {
   "cell_type": "markdown",
   "metadata": {},
   "source": [
    "https://builtin.com/data-science/basic-linear-algebra-deep-learning\n",
    "https://www.youtube.com/playlist?list=PLZHQObOWTQDPD3MizzM2xVFitgF8hE_ab\n"
   ]
  }
 ],
 "metadata": {
  "kernelspec": {
   "display_name": "math_ml",
   "language": "python",
   "name": "python3"
  },
  "language_info": {
   "codemirror_mode": {
    "name": "ipython",
    "version": 3
   },
   "file_extension": ".py",
   "mimetype": "text/x-python",
   "name": "python",
   "nbconvert_exporter": "python",
   "pygments_lexer": "ipython3",
   "version": "3.11.11"
  }
 },
 "nbformat": 4,
 "nbformat_minor": 2
}
